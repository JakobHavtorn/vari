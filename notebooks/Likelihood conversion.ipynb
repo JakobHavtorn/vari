{
 "cells": [
  {
   "cell_type": "code",
   "execution_count": 3,
   "metadata": {
    "ExecuteTime": {
     "end_time": "2020-03-04T09:01:42.335275Z",
     "start_time": "2020-03-04T09:01:42.330697Z"
    }
   },
   "outputs": [],
   "source": [
    "import numpy as np"
   ]
  },
  {
   "cell_type": "markdown",
   "metadata": {},
   "source": [
    "### Image data and discrete and continuous likelihoods\n",
    "\n",
    "#### Dequantization\n",
    "\n",
    "Pixels generally take a finite number of brightness values ranging from e.g. $z_i\\in[0,255]$. Modeling discretized data using a real-valued distribution $p(\\mathbf{x})$ can lead to arbitrarily high density values, by locating narrow high density spike on each of the possible discrete values. In order to avoid this ‘cheating’ solution, one should add noise uniformly distributed between 0 and 1 to the value of each pixel and then divide by 256, making each pixel take a value in the range [0, 1] and the image have a smooth distribution over pixel values [RNADE: The real-valued neural autoregressive density-estimator, 2013].\n",
    "$$\n",
    "x_i = \\frac{z_i + u}{256}, \\quad u\\sim\\mathcal{U}(0,1)\n",
    "$$\n",
    "This preprocessing was used in [NICE: Non-Linear Independent Components Estimation, 2015].\n",
    "\n",
    "A somewhat common alternative preprocessing is to compute the log-likelihood in \"logit-space\" by transforming\n",
    "$$\n",
    "x_i = \\text{logit}\\left(\\lambda+(1-2\\lambda)\\frac{z_i}{256}\\right)\n",
    "$$\n",
    "where $\\lambda$ is a a small number a bit larger than the smallest value of $z_i/256$. This preprocessing was used in [Masked Autoregressive Flow for Density Estimation, 2018].\n",
    "\n",
    "#### Conversion of continuous log-likelihood to continuous log-likelhood\n",
    "\n",
    "By the change of variables formula for probability density functions, we can compute the probability distribution $p_z(z)$ where $\\mathbf{z}=g^{-1}(\\mathbf{x})$ and we know $p_x(\\mathbf{x})$.\n",
    "$$\n",
    "p_\\mathbf{z}(\\mathbf{z}) = p_\\mathbf{x}(g(\\mathbf{z})) \\left| \\frac{d\\mathbf{x}}{d\\mathbf{z}} \\right|\n",
    "$$\n",
    "In $D$ dimensions, the derivative corresponds to the Jacobian and then we take the determinant of it. With an element-wise transform as the above, this Jacobian is diagonal.\n",
    "\n",
    "For the first transformation\n",
    "$$\n",
    "J_{g,ii} = \\frac{d}{dz_{i}} \\left(\\frac{z_i + u}{256}\\right) = \\frac{1}{256}\\\\\n",
    "\\text{det}\\;\\mathbf{J} = 256^{-D}\n",
    "$$\n",
    "such that \n",
    "$$\n",
    "p_\\mathbf{z}(\\mathbf{z}) = p_\\mathbf{x}(\\mathbf{x}) 256^{-D}\\\\\n",
    "\\log p_\\mathbf{z}(\\mathbf{z}) = \\log p_\\mathbf{x}(\\mathbf{x}) - D\\log(256)\n",
    "$$\n",
    "\n",
    "#### Bits per dimension\t\n",
    "\n",
    "$$\n",
    "\\text{nats}/\\text{dim} = -\\left( \\left(\\dfrac{\\log_e p(x)}{hwc}\\right)-\\log_e q \\right)\n",
    "$$\n",
    "\n",
    "where $\\log_e p(x)$ is the data log-likelihood in nats, $h, w$ and $c$ are the height, width and depth dimensions of the data (colour image) and $q$ is the number of pixel values allowed in the orignal quantized data before each quantized pixel $p_q$ was transformed by\n",
    "$$\n",
    "p_c = \\frac{p_q + u}{q}, \\quad u \\sim \\mathcal{U}(0,1)\n",
    "$$\n",
    "\n"
   ]
  },
  {
   "cell_type": "markdown",
   "metadata": {},
   "source": [
    "### MNIST"
   ]
  },
  {
   "cell_type": "markdown",
   "metadata": {},
   "source": [
    "#### Binarized"
   ]
  },
  {
   "cell_type": "code",
   "execution_count": 11,
   "metadata": {
    "ExecuteTime": {
     "end_time": "2020-03-04T09:03:23.986230Z",
     "start_time": "2020-03-04T09:03:23.981955Z"
    }
   },
   "outputs": [],
   "source": [
    "D = 28**2\n",
    "V = 256"
   ]
  },
  {
   "cell_type": "code",
   "execution_count": 12,
   "metadata": {
    "ExecuteTime": {
     "end_time": "2020-03-04T09:03:24.165724Z",
     "start_time": "2020-03-04T09:03:24.162621Z"
    }
   },
   "outputs": [],
   "source": [
    "log_e_px = -84"
   ]
  },
  {
   "cell_type": "code",
   "execution_count": 13,
   "metadata": {
    "ExecuteTime": {
     "end_time": "2020-03-04T09:03:24.461995Z",
     "start_time": "2020-03-04T09:03:24.457347Z"
    }
   },
   "outputs": [
    {
     "name": "stdout",
     "output_type": "stream",
     "text": [
      "-4431.419116471977\n"
     ]
    }
   ],
   "source": [
    "log_e_pz = log_e_px - D * np.log(V)\n",
    "print(log_e_pz)"
   ]
  },
  {
   "cell_type": "code",
   "execution_count": 15,
   "metadata": {
    "ExecuteTime": {
     "end_time": "2020-03-04T09:03:25.888856Z",
     "start_time": "2020-03-04T09:03:25.883585Z"
    }
   },
   "outputs": [
    {
     "name": "stdout",
     "output_type": "stream",
     "text": [
      "8.154574468666675\n"
     ]
    }
   ],
   "source": [
    "bpd = - log_2_pz / D\n",
    "print(bpd)"
   ]
  },
  {
   "cell_type": "markdown",
   "metadata": {},
   "source": [
    "#### Continuous"
   ]
  },
  {
   "cell_type": "code",
   "execution_count": null,
   "metadata": {},
   "outputs": [],
   "source": [
    "D = 784\n",
    "V = 256"
   ]
  },
  {
   "cell_type": "code",
   "execution_count": 16,
   "metadata": {
    "ExecuteTime": {
     "end_time": "2020-03-04T09:55:38.822988Z",
     "start_time": "2020-03-04T09:55:38.817671Z"
    }
   },
   "outputs": [],
   "source": [
    "log_e_px = 3400"
   ]
  },
  {
   "cell_type": "code",
   "execution_count": null,
   "metadata": {},
   "outputs": [],
   "source": [
    "log_e_pz = log_e_px - D * np.log(V)\n",
    "print(log_e_pz)"
   ]
  },
  {
   "cell_type": "code",
   "execution_count": null,
   "metadata": {},
   "outputs": [],
   "source": [
    "log_2_pz = log_e_pz / np.log(2)\n",
    "print(log_2_pz)"
   ]
  },
  {
   "cell_type": "code",
   "execution_count": null,
   "metadata": {},
   "outputs": [],
   "source": [
    "bpd = - log_2_pz / D\n",
    "print(bpd)"
   ]
  }
 ],
 "metadata": {
  "kernelspec": {
   "display_name": "Python 3.7.4 64-bit ('vari': conda)",
   "language": "python",
   "name": "python37464bitvariconda4e13f2f659fc4065bce0325784ba2eeb"
  },
  "language_info": {
   "codemirror_mode": {
    "name": "ipython",
    "version": 3
   },
   "file_extension": ".py",
   "mimetype": "text/x-python",
   "name": "python",
   "nbconvert_exporter": "python",
   "pygments_lexer": "ipython3",
   "version": "3.7.4"
  },
  "toc": {
   "base_numbering": 1,
   "nav_menu": {},
   "number_sections": true,
   "sideBar": true,
   "skip_h1_title": false,
   "title_cell": "Table of Contents",
   "title_sidebar": "Contents",
   "toc_cell": false,
   "toc_position": {},
   "toc_section_display": true,
   "toc_window_display": false
  },
  "varInspector": {
   "cols": {
    "lenName": 16,
    "lenType": 16,
    "lenVar": 40
   },
   "kernels_config": {
    "python": {
     "delete_cmd_postfix": "",
     "delete_cmd_prefix": "del ",
     "library": "var_list.py",
     "varRefreshCmd": "print(var_dic_list())"
    },
    "r": {
     "delete_cmd_postfix": ") ",
     "delete_cmd_prefix": "rm(",
     "library": "var_list.r",
     "varRefreshCmd": "cat(var_dic_list()) "
    }
   },
   "types_to_exclude": [
    "module",
    "function",
    "builtin_function_or_method",
    "instance",
    "_Feature"
   ],
   "window_display": false
  }
 },
 "nbformat": 4,
 "nbformat_minor": 2
}
