{
 "cells": [
  {
   "cell_type": "code",
   "execution_count": 1,
   "metadata": {
    "ExecuteTime": {
     "end_time": "2020-03-04T14:13:32.048711Z",
     "start_time": "2020-03-04T14:13:31.844922Z"
    }
   },
   "outputs": [],
   "source": [
    "import numpy as np"
   ]
  },
  {
   "cell_type": "markdown",
   "metadata": {},
   "source": [
    "### Image data and discrete and continuous likelihoods\n",
    "\n",
    "#### Dequantization\n",
    "\n",
    "Pixels generally take a finite number of brightness values ranging from e.g. $z_i\\in[0,255]$. Modeling discretized data using a real-valued distribution $p(\\mathbf{x})$ can lead to arbitrarily high density values, by locating narrow high density spike on each of the possible discrete values. In order to avoid this ‘cheating’ solution, one should add noise uniformly distributed between 0 and 1 to the value of each pixel and then divide by 256, making each pixel take a value in the range [0, 1] and the image have a smooth distribution over pixel values [RNADE: The real-valued neural autoregressive density-estimator, 2013].\n",
    "$$\n",
    "x_i = \\frac{z_i + u}{256}, \\quad u\\sim\\mathcal{U}(0,1)\n",
    "$$\n",
    "This preprocessing was used in [NICE: Non-Linear Independent Components Estimation, 2015].\n",
    "\n",
    "A somewhat common alternative preprocessing is to compute the log-likelihood in \"logit-space\" by transforming\n",
    "$$\n",
    "x_i = \\text{logit}\\left(\\lambda+(1-2\\lambda)\\frac{z_i}{256}\\right)\n",
    "$$\n",
    "where $\\lambda$ is a a small number a bit larger than the smallest value of $z_i/256$. This preprocessing was used in [Masked Autoregressive Flow for Density Estimation, 2018].\n",
    "\n",
    "#### Conversion of continuous log-likelihood to continuous log-likelhood\n",
    "\n",
    "By the change of variables formula for probability density functions, we can compute the probability distribution $p_z(z)$ where $\\mathbf{z}=g^{-1}(\\mathbf{x})$ and we know $p_x(\\mathbf{x})$.\n",
    "$$\n",
    "p_\\mathbf{z}(\\mathbf{z}) = p_\\mathbf{x}(g(\\mathbf{z})) \\left| \\frac{d\\mathbf{x}}{d\\mathbf{z}} \\right|\n",
    "$$\n",
    "In $D$ dimensions, the derivative corresponds to the Jacobian and then we take the determinant of it. With an element-wise transform as the above, this Jacobian is diagonal.\n",
    "\n",
    "For the first transformation\n",
    "$$\n",
    "J_{g,ii} = \\frac{d}{dz_{i}} \\left(\\frac{z_i + u}{256}\\right) = \\frac{1}{256}\\\\\n",
    "\\text{det}\\;\\mathbf{J} = 256^{-D}\n",
    "$$\n",
    "such that \n",
    "$$\n",
    "p_\\mathbf{z}(\\mathbf{z}) = p_\\mathbf{x}(\\mathbf{x}) 256^{-D}\\\\\n",
    "\\log p_\\mathbf{z}(\\mathbf{z}) = \\log p_\\mathbf{x}(\\mathbf{x}) - D\\log(256)\n",
    "$$\n",
    "\n",
    "#### Bits per dimension\t\n",
    "\n",
    "$$\n",
    "\\text{nats}/\\text{dim} = -\\left( \\left(\\dfrac{\\log_e p(x)}{hwc}\\right)-\\log_e q \\right)\n",
    "$$\n",
    "\n",
    "where $\\log_e p(x)$ is the data log-likelihood in nats, $h, w$ and $c$ are the height, width and depth dimensions of the data (colour image) and $q$ is the number of pixel values allowed in the orignal quantized data before each quantized pixel $p_q$ was transformed by\n",
    "$$\n",
    "p_c = \\frac{p_q + u}{q}, \\quad u \\sim \\mathcal{U}(0,1)\n",
    "$$\n",
    "\n"
   ]
  },
  {
   "cell_type": "code",
   "execution_count": 2,
   "metadata": {
    "ExecuteTime": {
     "end_time": "2020-03-04T14:13:32.057044Z",
     "start_time": "2020-03-04T14:13:32.051504Z"
    }
   },
   "outputs": [],
   "source": [
    "def nats_to_bits(nats):\n",
    "    return nats / np.log(2)\n",
    "\n",
    "\n",
    "def bits_to_nats(bits):\n",
    "    return bits / np.log2(np.e)\n",
    "\n",
    "\n",
    "def px_to_pz_scale_transform(log_e_px, z_bits, dim):\n",
    "    \"\"\"\n",
    "    Convert a loglikelihood in x space to a loglikelihood in z space where z is the original\n",
    "    data space and x is the input fed to the model on which the px loglikelihood is computed.\n",
    "    \n",
    "    The transform is:\n",
    "        x = (z + u) / 2**z_bits\n",
    "    \n",
    "    Args:\n",
    "        px (array like): Loglikelihoods in x space.\n",
    "        z_bits (int): Number of bits used to encode a single number in z space, e.g. 8 for 256 values.\n",
    "        dim (int): Dimensionality of the input e.g. 28 x 28 image has dim=784.\n",
    "    \"\"\"\n",
    "    return log_e_px - dim * np.log(2**z_bits)"
   ]
  },
  {
   "cell_type": "markdown",
   "metadata": {},
   "source": [
    "## Datasets"
   ]
  },
  {
   "cell_type": "markdown",
   "metadata": {},
   "source": [
    "### MNIST"
   ]
  },
  {
   "cell_type": "markdown",
   "metadata": {},
   "source": [
    "#### Binarized"
   ]
  },
  {
   "cell_type": "code",
   "execution_count": 3,
   "metadata": {
    "ExecuteTime": {
     "end_time": "2020-03-04T14:13:32.081629Z",
     "start_time": "2020-03-04T14:13:32.059188Z"
    }
   },
   "outputs": [],
   "source": [
    "dim = 28**2\n",
    "z_bits = 8"
   ]
  },
  {
   "cell_type": "code",
   "execution_count": 4,
   "metadata": {
    "ExecuteTime": {
     "end_time": "2020-03-04T14:13:32.097428Z",
     "start_time": "2020-03-04T14:13:32.083973Z"
    }
   },
   "outputs": [],
   "source": [
    "log_e_px = -84"
   ]
  },
  {
   "cell_type": "code",
   "execution_count": 5,
   "metadata": {
    "ExecuteTime": {
     "end_time": "2020-03-04T14:13:32.114116Z",
     "start_time": "2020-03-04T14:13:32.099889Z"
    }
   },
   "outputs": [
    {
     "name": "stdout",
     "output_type": "stream",
     "text": [
      "-84\n"
     ]
    }
   ],
   "source": [
    "log_e_pz = log_e_px\n",
    "print(log_e_pz)"
   ]
  },
  {
   "cell_type": "code",
   "execution_count": 6,
   "metadata": {
    "ExecuteTime": {
     "end_time": "2020-03-04T14:13:32.136133Z",
     "start_time": "2020-03-04T14:13:32.117892Z"
    }
   },
   "outputs": [
    {
     "name": "stdout",
     "output_type": "stream",
     "text": [
      "-121.18638343467293\n"
     ]
    }
   ],
   "source": [
    "log_2_pz = nats_to_bits(log_e_pz)\n",
    "print(log_2_pz)"
   ]
  },
  {
   "cell_type": "code",
   "execution_count": 7,
   "metadata": {
    "ExecuteTime": {
     "end_time": "2020-03-04T14:13:32.158019Z",
     "start_time": "2020-03-04T14:13:32.140184Z"
    }
   },
   "outputs": [
    {
     "name": "stdout",
     "output_type": "stream",
     "text": [
      "0.15457446866667465\n"
     ]
    }
   ],
   "source": [
    "bpd = - log_2_pz / dim\n",
    "print(bpd)"
   ]
  },
  {
   "cell_type": "markdown",
   "metadata": {},
   "source": [
    "#### Continuous"
   ]
  },
  {
   "cell_type": "code",
   "execution_count": 8,
   "metadata": {
    "ExecuteTime": {
     "end_time": "2020-03-04T14:13:32.172842Z",
     "start_time": "2020-03-04T14:13:32.160247Z"
    }
   },
   "outputs": [],
   "source": [
    "dim = 784\n",
    "z_bits = 8"
   ]
  },
  {
   "cell_type": "code",
   "execution_count": 9,
   "metadata": {
    "ExecuteTime": {
     "end_time": "2020-03-04T14:13:32.188578Z",
     "start_time": "2020-03-04T14:13:32.175619Z"
    }
   },
   "outputs": [],
   "source": [
    "log_e_px = 3400"
   ]
  },
  {
   "cell_type": "code",
   "execution_count": 10,
   "metadata": {
    "ExecuteTime": {
     "end_time": "2020-03-04T14:13:32.210916Z",
     "start_time": "2020-03-04T14:13:32.191852Z"
    }
   },
   "outputs": [
    {
     "name": "stdout",
     "output_type": "stream",
     "text": [
      "-947.4191164719768\n"
     ]
    }
   ],
   "source": [
    "log_e_pz = px_to_pz_scale_transform(log_e_px, z_bits, dim)\n",
    "print(log_e_pz)"
   ]
  },
  {
   "cell_type": "code",
   "execution_count": 11,
   "metadata": {
    "ExecuteTime": {
     "end_time": "2020-03-04T14:13:32.227149Z",
     "start_time": "2020-03-04T14:13:32.213572Z"
    }
   },
   "outputs": [
    {
     "name": "stdout",
     "output_type": "stream",
     "text": [
      "-1366.8368609775243\n"
     ]
    }
   ],
   "source": [
    "log_2_pz = nats_to_bits(log_e_pz)\n",
    "print(log_2_pz)"
   ]
  },
  {
   "cell_type": "code",
   "execution_count": 12,
   "metadata": {
    "ExecuteTime": {
     "end_time": "2020-03-04T14:13:32.249540Z",
     "start_time": "2020-03-04T14:13:32.229373Z"
    }
   },
   "outputs": [
    {
     "name": "stdout",
     "output_type": "stream",
     "text": [
      "1.7434143634917403\n"
     ]
    }
   ],
   "source": [
    "bpd = - log_2_pz / dim\n",
    "print(bpd)"
   ]
  },
  {
   "cell_type": "markdown",
   "metadata": {},
   "source": [
    "### FashionMNIST"
   ]
  },
  {
   "cell_type": "markdown",
   "metadata": {},
   "source": [
    "#### Binarized"
   ]
  },
  {
   "cell_type": "code",
   "execution_count": 13,
   "metadata": {
    "ExecuteTime": {
     "end_time": "2020-03-04T14:13:32.265478Z",
     "start_time": "2020-03-04T14:13:32.251886Z"
    }
   },
   "outputs": [],
   "source": [
    "dim = 28**2\n",
    "z_bits = 8"
   ]
  },
  {
   "cell_type": "code",
   "execution_count": 14,
   "metadata": {
    "ExecuteTime": {
     "end_time": "2020-03-04T14:13:32.281336Z",
     "start_time": "2020-03-04T14:13:32.268270Z"
    }
   },
   "outputs": [],
   "source": [
    "log_e_px = -230"
   ]
  },
  {
   "cell_type": "code",
   "execution_count": 15,
   "metadata": {
    "ExecuteTime": {
     "end_time": "2020-03-04T14:13:32.303371Z",
     "start_time": "2020-03-04T14:13:32.284257Z"
    }
   },
   "outputs": [
    {
     "name": "stdout",
     "output_type": "stream",
     "text": [
      "-230\n"
     ]
    }
   ],
   "source": [
    "log_e_pz = log_e_px\n",
    "print(log_e_pz)"
   ]
  },
  {
   "cell_type": "code",
   "execution_count": 16,
   "metadata": {
    "ExecuteTime": {
     "end_time": "2020-03-04T14:13:32.319272Z",
     "start_time": "2020-03-04T14:13:32.305895Z"
    }
   },
   "outputs": [
    {
     "name": "stdout",
     "output_type": "stream",
     "text": [
      "-331.81985940446157\n"
     ]
    }
   ],
   "source": [
    "log_2_pz = nats_to_bits(log_e_pz)\n",
    "print(log_2_pz)"
   ]
  },
  {
   "cell_type": "code",
   "execution_count": 17,
   "metadata": {
    "ExecuteTime": {
     "end_time": "2020-03-04T14:13:32.334871Z",
     "start_time": "2020-03-04T14:13:32.321856Z"
    }
   },
   "outputs": [
    {
     "name": "stdout",
     "output_type": "stream",
     "text": [
      "0.42323961658732345\n"
     ]
    }
   ],
   "source": [
    "bpd = - log_2_pz / dim\n",
    "print(bpd)"
   ]
  },
  {
   "cell_type": "markdown",
   "metadata": {},
   "source": [
    "#### Continuous"
   ]
  },
  {
   "cell_type": "code",
   "execution_count": 18,
   "metadata": {
    "ExecuteTime": {
     "end_time": "2020-03-04T14:13:32.349504Z",
     "start_time": "2020-03-04T14:13:32.339372Z"
    }
   },
   "outputs": [],
   "source": [
    "dim = 28**2\n",
    "z_bits = 8"
   ]
  },
  {
   "cell_type": "code",
   "execution_count": 19,
   "metadata": {
    "ExecuteTime": {
     "end_time": "2020-03-04T14:13:32.364496Z",
     "start_time": "2020-03-04T14:13:32.353164Z"
    }
   },
   "outputs": [],
   "source": [
    "log_e_px = 2350"
   ]
  },
  {
   "cell_type": "code",
   "execution_count": 20,
   "metadata": {
    "ExecuteTime": {
     "end_time": "2020-03-04T14:13:32.385130Z",
     "start_time": "2020-03-04T14:13:32.366546Z"
    }
   },
   "outputs": [
    {
     "name": "stdout",
     "output_type": "stream",
     "text": [
      "-1997.4191164719768\n"
     ]
    }
   ],
   "source": [
    "log_e_pz = px_to_pz_scale_transform(log_e_px, z_bits, dim)\n",
    "print(log_e_pz)"
   ]
  },
  {
   "cell_type": "code",
   "execution_count": 21,
   "metadata": {
    "ExecuteTime": {
     "end_time": "2020-03-04T14:13:32.406369Z",
     "start_time": "2020-03-04T14:13:32.387318Z"
    },
    "scrolled": true
   },
   "outputs": [
    {
     "name": "stdout",
     "output_type": "stream",
     "text": [
      "-2881.666653910936\n"
     ]
    }
   ],
   "source": [
    "log_2_pz = nats_to_bits(log_e_pz)\n",
    "print(log_2_pz)"
   ]
  },
  {
   "cell_type": "code",
   "execution_count": 22,
   "metadata": {
    "ExecuteTime": {
     "end_time": "2020-03-04T14:13:32.421108Z",
     "start_time": "2020-03-04T14:13:32.409092Z"
    }
   },
   "outputs": [
    {
     "name": "stdout",
     "output_type": "stream",
     "text": [
      "3.6755952218251733\n"
     ]
    }
   ],
   "source": [
    "bpd = - log_2_pz / dim\n",
    "print(bpd)"
   ]
  },
  {
   "cell_type": "markdown",
   "metadata": {},
   "source": [
    "## Paper references"
   ]
  },
  {
   "cell_type": "markdown",
   "metadata": {},
   "source": [
    "### NICE"
   ]
  },
  {
   "cell_type": "markdown",
   "metadata": {},
   "source": [
    "#### Continuous MNIST"
   ]
  },
  {
   "cell_type": "code",
   "execution_count": 23,
   "metadata": {
    "ExecuteTime": {
     "end_time": "2020-03-04T14:13:32.436289Z",
     "start_time": "2020-03-04T14:13:32.423150Z"
    }
   },
   "outputs": [],
   "source": [
    "dim= 28**2\n",
    "z_bits = 8"
   ]
  },
  {
   "cell_type": "code",
   "execution_count": 24,
   "metadata": {
    "ExecuteTime": {
     "end_time": "2020-03-04T14:13:32.451918Z",
     "start_time": "2020-03-04T14:13:32.438175Z"
    }
   },
   "outputs": [],
   "source": [
    "log_e_px = 1980.50"
   ]
  },
  {
   "cell_type": "code",
   "execution_count": 25,
   "metadata": {
    "ExecuteTime": {
     "end_time": "2020-03-04T14:13:32.468722Z",
     "start_time": "2020-03-04T14:13:32.454528Z"
    }
   },
   "outputs": [
    {
     "name": "stdout",
     "output_type": "stream",
     "text": [
      "-2366.919116471977\n"
     ]
    }
   ],
   "source": [
    "log_e_pz = px_to_pz_scale_transform(log_e_px, z_bits, dim)\n",
    "print(log_e_pz)"
   ]
  },
  {
   "cell_type": "code",
   "execution_count": 26,
   "metadata": {
    "ExecuteTime": {
     "end_time": "2020-03-04T14:13:32.489977Z",
     "start_time": "2020-03-04T14:13:32.471001Z"
    },
    "scrolled": true
   },
   "outputs": [
    {
     "name": "stdout",
     "output_type": "stream",
     "text": [
      "-3414.742471519408\n"
     ]
    }
   ],
   "source": [
    "log_2_pz = nats_to_bits(log_e_pz)\n",
    "print(log_2_pz)"
   ]
  },
  {
   "cell_type": "code",
   "execution_count": 27,
   "metadata": {
    "ExecuteTime": {
     "end_time": "2020-03-04T14:13:32.505748Z",
     "start_time": "2020-03-04T14:13:32.492833Z"
    }
   },
   "outputs": [
    {
     "name": "stdout",
     "output_type": "stream",
     "text": [
      "4.355538866733939\n"
     ]
    }
   ],
   "source": [
    "bpd = - log_2_pz / dim\n",
    "print(bpd)"
   ]
  },
  {
   "cell_type": "markdown",
   "metadata": {
    "ExecuteTime": {
     "end_time": "2020-03-04T13:58:34.104628Z",
     "start_time": "2020-03-04T13:58:34.101319Z"
    }
   },
   "source": [
    "#### Continuous CIFAR10"
   ]
  },
  {
   "cell_type": "code",
   "execution_count": 28,
   "metadata": {
    "ExecuteTime": {
     "end_time": "2020-03-04T14:13:32.520658Z",
     "start_time": "2020-03-04T14:13:32.508870Z"
    }
   },
   "outputs": [],
   "source": [
    "dim = 32**2 * 3\n",
    "z_bits = 7"
   ]
  },
  {
   "cell_type": "code",
   "execution_count": 29,
   "metadata": {
    "ExecuteTime": {
     "end_time": "2020-03-04T14:13:32.535889Z",
     "start_time": "2020-03-04T14:13:32.523139Z"
    }
   },
   "outputs": [],
   "source": [
    "log_e_px = 5371.78"
   ]
  },
  {
   "cell_type": "code",
   "execution_count": 30,
   "metadata": {
    "ExecuteTime": {
     "end_time": "2020-03-04T14:13:32.552451Z",
     "start_time": "2020-03-04T14:13:32.538289Z"
    }
   },
   "outputs": [
    {
     "name": "stdout",
     "output_type": "stream",
     "text": [
      "-9533.656970761065\n"
     ]
    }
   ],
   "source": [
    "log_e_pz = px_to_pz_scale_transform(log_e_px, z_bits, dim)\n",
    "print(log_e_pz)"
   ]
  },
  {
   "cell_type": "code",
   "execution_count": 31,
   "metadata": {
    "ExecuteTime": {
     "end_time": "2020-03-04T14:13:32.567527Z",
     "start_time": "2020-03-04T14:13:32.554615Z"
    },
    "scrolled": true
   },
   "outputs": [
    {
     "name": "stdout",
     "output_type": "stream",
     "text": [
      "-13754.159633253486\n"
     ]
    }
   ],
   "source": [
    "log_2_pz = nats_to_bits(log_e_pz)\n",
    "print(log_2_pz)"
   ]
  },
  {
   "cell_type": "code",
   "execution_count": 32,
   "metadata": {
    "ExecuteTime": {
     "end_time": "2020-03-04T14:13:32.583293Z",
     "start_time": "2020-03-04T14:13:32.570584Z"
    }
   },
   "outputs": [
    {
     "name": "stdout",
     "output_type": "stream",
     "text": [
      "4.477265505616369\n"
     ]
    }
   ],
   "source": [
    "bpd = - log_2_pz / dim\n",
    "print(bpd)"
   ]
  },
  {
   "cell_type": "markdown",
   "metadata": {
    "ExecuteTime": {
     "end_time": "2020-03-04T13:58:34.104628Z",
     "start_time": "2020-03-04T13:58:34.101319Z"
    }
   },
   "source": [
    "#### Continuous SVHN"
   ]
  },
  {
   "cell_type": "code",
   "execution_count": 33,
   "metadata": {
    "ExecuteTime": {
     "end_time": "2020-03-04T14:13:32.597991Z",
     "start_time": "2020-03-04T14:13:32.586154Z"
    }
   },
   "outputs": [],
   "source": [
    "dim = 32**2 * 3\n",
    "z_bits = 7"
   ]
  },
  {
   "cell_type": "code",
   "execution_count": 34,
   "metadata": {
    "ExecuteTime": {
     "end_time": "2020-03-04T14:13:32.616484Z",
     "start_time": "2020-03-04T14:13:32.600068Z"
    }
   },
   "outputs": [],
   "source": [
    "log_e_px = 11496.55"
   ]
  },
  {
   "cell_type": "code",
   "execution_count": 35,
   "metadata": {
    "ExecuteTime": {
     "end_time": "2020-03-04T14:13:32.632944Z",
     "start_time": "2020-03-04T14:13:32.619624Z"
    }
   },
   "outputs": [
    {
     "name": "stdout",
     "output_type": "stream",
     "text": [
      "-3408.8869707610647\n"
     ]
    }
   ],
   "source": [
    "log_e_pz = px_to_pz_scale_transform(log_e_px, z_bits, dim)\n",
    "print(log_e_pz)"
   ]
  },
  {
   "cell_type": "code",
   "execution_count": 36,
   "metadata": {
    "ExecuteTime": {
     "end_time": "2020-03-04T14:13:32.648137Z",
     "start_time": "2020-03-04T14:13:32.634946Z"
    },
    "scrolled": true
   },
   "outputs": [
    {
     "name": "stdout",
     "output_type": "stream",
     "text": [
      "-4917.984327667989\n"
     ]
    }
   ],
   "source": [
    "log_2_pz = nats_to_bits(log_e_pz)\n",
    "print(log_2_pz)"
   ]
  },
  {
   "cell_type": "code",
   "execution_count": 37,
   "metadata": {
    "ExecuteTime": {
     "end_time": "2020-03-04T14:13:32.663516Z",
     "start_time": "2020-03-04T14:13:32.650170Z"
    }
   },
   "outputs": [
    {
     "name": "stdout",
     "output_type": "stream",
     "text": [
      "1.600906356662757\n"
     ]
    }
   ],
   "source": [
    "bpd = - log_2_pz / dim\n",
    "print(bpd)"
   ]
  },
  {
   "cell_type": "markdown",
   "metadata": {},
   "source": [
    "###"
   ]
  },
  {
   "cell_type": "markdown",
   "metadata": {},
   "source": [
    "###"
   ]
  },
  {
   "cell_type": "markdown",
   "metadata": {},
   "source": [
    "###"
   ]
  },
  {
   "cell_type": "code",
   "execution_count": null,
   "metadata": {},
   "outputs": [],
   "source": []
  }
 ],
 "metadata": {
  "kernelspec": {
   "display_name": "Python 3.7.4 64-bit ('vari': conda)",
   "language": "python",
   "name": "python37464bitvariconda4e13f2f659fc4065bce0325784ba2eeb"
  },
  "language_info": {
   "codemirror_mode": {
    "name": "ipython",
    "version": 3
   },
   "file_extension": ".py",
   "mimetype": "text/x-python",
   "name": "python",
   "nbconvert_exporter": "python",
   "pygments_lexer": "ipython3",
   "version": "3.7.4"
  },
  "toc": {
   "base_numbering": 1,
   "nav_menu": {},
   "number_sections": true,
   "sideBar": true,
   "skip_h1_title": false,
   "title_cell": "Table of Contents",
   "title_sidebar": "Contents",
   "toc_cell": false,
   "toc_position": {},
   "toc_section_display": true,
   "toc_window_display": true
  },
  "varInspector": {
   "cols": {
    "lenName": 16,
    "lenType": 16,
    "lenVar": 40
   },
   "kernels_config": {
    "python": {
     "delete_cmd_postfix": "",
     "delete_cmd_prefix": "del ",
     "library": "var_list.py",
     "varRefreshCmd": "print(var_dic_list())"
    },
    "r": {
     "delete_cmd_postfix": ") ",
     "delete_cmd_prefix": "rm(",
     "library": "var_list.r",
     "varRefreshCmd": "cat(var_dic_list()) "
    }
   },
   "types_to_exclude": [
    "module",
    "function",
    "builtin_function_or_method",
    "instance",
    "_Feature"
   ],
   "window_display": false
  }
 },
 "nbformat": 4,
 "nbformat_minor": 2
}
